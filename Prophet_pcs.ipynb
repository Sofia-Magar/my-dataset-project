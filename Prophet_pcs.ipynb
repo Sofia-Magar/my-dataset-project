{
 "cells": [
  {
   "cell_type": "markdown",
   "metadata": {},
   "source": [
    "# Prophet Forecasting Model\n",
    "This notebook implements a forecasting model using the Prophet library. It includes data loading, preprocessing, model training, and forecasting for multiple SKUs, along with additional regressors."
   ]
  },
  {
   "cell_type": "code",
   "execution_count": null,
   "metadata": {},
   "outputs": [],
   "source": [
    "# Install necessary libraries\n",
    "!pip install prophet --quiet\n",
    "!pip install pandas\n",
    "!pip install matplotlib"
   ]
  },
  {
   "cell_type": "code",
   "execution_count": null,
   "metadata": {},
   "outputs": [],
   "source": [
    "import pandas as pd\n",
    "from prophet import Prophet\n",
    "import matplotlib.pyplot as plt"
   ]
  },
  {
   "cell_type": "markdown",
   "metadata": {},
   "source": [
    "## Loading and Preparing the Dataset\n",
    "Load the dataset and perform necessary preprocessing."
   ]
  },
  {
   "cell_type": "code",
   "execution_count": null,
   "metadata": {},
   "outputs": [],
   "source": [
    "# Load dataset\n",
    "df = pd.read_csv('../datasets/dataset_pcs.csv')\n",
    "\n",
    "# Convert 'period' to datetime\n",
    "df['period'] = pd.to_datetime(df['period'])\n",
    "\n",
    "# Select only required columns\n",
    "df = df[['period', 'sku_id', 'qty_total', 'avg_discount_perc_by_goods', 'oos__by_goods', 'sin_month', 'cos_month']]"
   ]
  },
  {
   "cell_type": "code",
   "execution_count": null,
   "metadata": {},
   "outputs": [],
   "source": [
    "# Prepare results container\n",
    "forecast_all = []\n",
    "\n",
    "# Loop through each unique SKU\n",
    "sku_list = df['sku_id'].unique()\n",
    "\n",
    "for sku in sku_list:\n",
    "    sku_df = df[df['sku_id'] == sku].copy()\n",
    "\n",
    "    # Skip SKUs with too little data\n",
    "    if len(sku_df) < 10:\n",
    "        continue\n",
    "\n",
    "    # Rename columns to match Prophet requirements\n",
    "    sku_df.rename(columns={'period': 'ds', 'qty_total': 'y'}, inplace=True)\n",
    "\n",
    "    # Drop rows with missing values in regressors\n",
    "    sku_df = sku_df.dropna(subset=['avg_discount_perc_by_goods', 'oos__by_goods', 'sin_month', 'cos_month'])\n",
    "\n",
    "    # Skip if less than 2 rows after cleaning\n",
    "    if len(sku_df) < 2:\n",
    "        continue\n",
    "    # Initialize Prophet with additional regressors\n",
    "    model = Prophet()\n",
    "    model.add_regressor('avg_discount_perc_by_goods')\n",
    "    model.add_regressor('oos__by_goods')\n",
    "    model.add_regressor('sin_month')\n",
    "    model.add_regressor('cos_month')\n",
    "\n",
    "    model.fit(sku_df)\n",
    "\n",
    "    # Create future dataframe for 28 days\n",
    "    future = model.make_future_dataframe(periods=28)\n",
    "\n",
    "    # Add future regressor values (using last known value)\n",
    "    for col in ['avg_discount_perc_by_goods', 'oos__by_goods', 'sin_month', 'cos_month']:\n",
    "        last_val = sku_df[col].iloc[-1]\n",
    "        future[col] = last_val  # repeat last known value\n",
    "\n",
    "    # Forecast\n",
    "    forecast = model.predict(future)\n",
    "\n",
    "    result = forecast[['ds', 'yhat', 'yhat_lower', 'yhat_upper']].tail(28).copy()\n",
    "    result.rename(columns={\n",
    "        'ds': 'date',\n",
    "        'yhat': 'forecast_qty_total',\n",
    "        'yhat_lower': 'forecast_qty_total_lower',\n",
    "        'yhat_upper': 'forecast_qty_total_upper'\n",
    "    }, inplace=True)\n",
    "\n",
    "    result['sku_id'] = sku\n",
    "\n",
    "    forecast_all.append(result)"
   ]
  },
  {
   "cell_type": "markdown",
   "metadata": {},
   "source": [
    "## Saving the Results\n",
    "Combine all forecasts and save to a CSV file."
   ]
  },
  {
   "cell_type": "code",
   "execution_count": null,
   "metadata": {},
   "outputs": [],
   "source": [
    "# Combine all forecasts\n",
    "final_forecast_df = pd.concat(forecast_all, ignore_index=True)\n",
    "\n",
    "# Save to CSV\n",
    "final_forecast_df.to_csv('../results/forecast_28_days_all_skus_with_regressors.csv', index=False)\n",
    "\n",
    "# Show sample of result\n",
    "final_forecast_df.head()"
   ]
  }
 ],
 "metadata": {
  "kernelspec": {
   "display_name": "Python 3",
   "language": "python",
   "name": "python3"
  },
  "language_info": {
   "codemirror_mode": {
    "name": "ipython",
    "version": 3
   },
   "file_extension": ".ipynb",
   "mimetype": "application/x-ipynb+json",
   "name": "python",
   "nbconvert_exporter": "python",
   "pygments_lexer": "ipython3",
   "version": "3.12.9"
  }
 },
 "nbformat": 4,
 "nbformat_minor": 2
}